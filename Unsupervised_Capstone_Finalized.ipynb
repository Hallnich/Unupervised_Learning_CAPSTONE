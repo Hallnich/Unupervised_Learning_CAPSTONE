{
 "cells": [
  {
   "cell_type": "markdown",
   "metadata": {},
   "source": [
    "# Comparison of Unsupervised Clustering Algorithms with Supervised Machine Learning Techniques"
   ]
  },
  {
   "cell_type": "code",
   "execution_count": 493,
   "metadata": {},
   "outputs": [],
   "source": [
    "import timeit\n",
    "import numpy as np\n",
    "import pandas as pd\n",
    "import seaborn as sns\n",
    "import matplotlib.pyplot as plt\n",
    "%matplotlib inline\n",
    "\n",
    "# Import required sklearn packages\n",
    "from sklearn import svm\n",
    "from sklearn import tree\n",
    "from sklearn import metrics\n",
    "from sklearn import datasets\n",
    "import sklearn.metrics as sm\n",
    "from sklearn import ensemble\n",
    "from sklearn.cluster import KMeans\n",
    "from sklearn.cluster import MeanShift\n",
    "from sklearn.cluster import estimate_bandwidth\n",
    "from sklearn.cluster import SpectralClustering\n",
    "from sklearn.neural_network import MLPClassifier \n",
    "from sklearn.neighbors import KNeighborsClassifier\n",
    "from sklearn.model_selection import cross_val_score "
   ]
  },
  {
   "cell_type": "code",
   "execution_count": 494,
   "metadata": {},
   "outputs": [
    {
     "name": "stdout",
     "output_type": "stream",
     "text": [
      "['setosa' 'versicolor' 'virginica']\n"
     ]
    }
   ],
   "source": [
    "# load in iris dataset from sklearn package\n",
    "iris = datasets.load_iris()\n",
    "# Create dataframe with data and assign column names\n",
    "df = pd.DataFrame(iris.data)\n",
    "df.columns = ['Sepal_Length','Sepal_Width','Petal_Length','Petal_Width']\n",
    "df['Target'] = iris.target\n",
    "# Print species names\n",
    "print(iris.target_names)"
   ]
  },
  {
   "cell_type": "code",
   "execution_count": 495,
   "metadata": {},
   "outputs": [],
   "source": [
    "# Define function to assign species names to each target number for plots\n",
    "def add_species(x):\n",
    "    if x['Target']  == 0:\n",
    "        return 'Setosa'\n",
    "    elif x['Target'] == 1:\n",
    "        return 'Versicolor'\n",
    "    elif x['Target'] == 2:\n",
    "        return 'Virginica'\n",
    "    \n",
    "# Add species names in new column\n",
    "df['Species'] = df.apply(add_species, axis=1)"
   ]
  },
  {
   "cell_type": "code",
   "execution_count": 496,
   "metadata": {},
   "outputs": [
    {
     "name": "stdout",
     "output_type": "stream",
     "text": [
      "This dataset consists of 150 observations\n"
     ]
    },
    {
     "data": {
      "text/html": [
       "<div>\n",
       "<style scoped>\n",
       "    .dataframe tbody tr th:only-of-type {\n",
       "        vertical-align: middle;\n",
       "    }\n",
       "\n",
       "    .dataframe tbody tr th {\n",
       "        vertical-align: top;\n",
       "    }\n",
       "\n",
       "    .dataframe thead th {\n",
       "        text-align: right;\n",
       "    }\n",
       "</style>\n",
       "<table border=\"1\" class=\"dataframe\">\n",
       "  <thead>\n",
       "    <tr style=\"text-align: right;\">\n",
       "      <th></th>\n",
       "      <th>Sepal_Length</th>\n",
       "      <th>Sepal_Width</th>\n",
       "      <th>Petal_Length</th>\n",
       "      <th>Petal_Width</th>\n",
       "      <th>Target</th>\n",
       "      <th>Species</th>\n",
       "    </tr>\n",
       "  </thead>\n",
       "  <tbody>\n",
       "    <tr>\n",
       "      <th>0</th>\n",
       "      <td>5.1</td>\n",
       "      <td>3.5</td>\n",
       "      <td>1.4</td>\n",
       "      <td>0.2</td>\n",
       "      <td>0</td>\n",
       "      <td>Setosa</td>\n",
       "    </tr>\n",
       "    <tr>\n",
       "      <th>1</th>\n",
       "      <td>4.9</td>\n",
       "      <td>3.0</td>\n",
       "      <td>1.4</td>\n",
       "      <td>0.2</td>\n",
       "      <td>0</td>\n",
       "      <td>Setosa</td>\n",
       "    </tr>\n",
       "    <tr>\n",
       "      <th>2</th>\n",
       "      <td>4.7</td>\n",
       "      <td>3.2</td>\n",
       "      <td>1.3</td>\n",
       "      <td>0.2</td>\n",
       "      <td>0</td>\n",
       "      <td>Setosa</td>\n",
       "    </tr>\n",
       "    <tr>\n",
       "      <th>3</th>\n",
       "      <td>4.6</td>\n",
       "      <td>3.1</td>\n",
       "      <td>1.5</td>\n",
       "      <td>0.2</td>\n",
       "      <td>0</td>\n",
       "      <td>Setosa</td>\n",
       "    </tr>\n",
       "    <tr>\n",
       "      <th>4</th>\n",
       "      <td>5.0</td>\n",
       "      <td>3.6</td>\n",
       "      <td>1.4</td>\n",
       "      <td>0.2</td>\n",
       "      <td>0</td>\n",
       "      <td>Setosa</td>\n",
       "    </tr>\n",
       "  </tbody>\n",
       "</table>\n",
       "</div>"
      ],
      "text/plain": [
       "   Sepal_Length  Sepal_Width  Petal_Length  Petal_Width  Target Species\n",
       "0           5.1          3.5           1.4          0.2       0  Setosa\n",
       "1           4.9          3.0           1.4          0.2       0  Setosa\n",
       "2           4.7          3.2           1.3          0.2       0  Setosa\n",
       "3           4.6          3.1           1.5          0.2       0  Setosa\n",
       "4           5.0          3.6           1.4          0.2       0  Setosa"
      ]
     },
     "execution_count": 496,
     "metadata": {},
     "output_type": "execute_result"
    }
   ],
   "source": [
    "# Print first 5 rows of data and print length of df\n",
    "print(\"This dataset consists of {} observations\".format(len(df)))\n",
    "df.head(n=5)"
   ]
  },
  {
   "cell_type": "code",
   "execution_count": 497,
   "metadata": {},
   "outputs": [
    {
     "data": {
      "text/html": [
       "<div>\n",
       "<style scoped>\n",
       "    .dataframe tbody tr th:only-of-type {\n",
       "        vertical-align: middle;\n",
       "    }\n",
       "\n",
       "    .dataframe tbody tr th {\n",
       "        vertical-align: top;\n",
       "    }\n",
       "\n",
       "    .dataframe thead th {\n",
       "        text-align: right;\n",
       "    }\n",
       "</style>\n",
       "<table border=\"1\" class=\"dataframe\">\n",
       "  <thead>\n",
       "    <tr style=\"text-align: right;\">\n",
       "      <th></th>\n",
       "      <th>Sepal_Length</th>\n",
       "      <th>Sepal_Width</th>\n",
       "      <th>Petal_Length</th>\n",
       "      <th>Petal_Width</th>\n",
       "      <th>Target</th>\n",
       "    </tr>\n",
       "  </thead>\n",
       "  <tbody>\n",
       "    <tr>\n",
       "      <th>count</th>\n",
       "      <td>150.000000</td>\n",
       "      <td>150.000000</td>\n",
       "      <td>150.000000</td>\n",
       "      <td>150.000000</td>\n",
       "      <td>150.000000</td>\n",
       "    </tr>\n",
       "    <tr>\n",
       "      <th>mean</th>\n",
       "      <td>5.843333</td>\n",
       "      <td>3.057333</td>\n",
       "      <td>3.758000</td>\n",
       "      <td>1.199333</td>\n",
       "      <td>1.000000</td>\n",
       "    </tr>\n",
       "    <tr>\n",
       "      <th>std</th>\n",
       "      <td>0.828066</td>\n",
       "      <td>0.435866</td>\n",
       "      <td>1.765298</td>\n",
       "      <td>0.762238</td>\n",
       "      <td>0.819232</td>\n",
       "    </tr>\n",
       "    <tr>\n",
       "      <th>min</th>\n",
       "      <td>4.300000</td>\n",
       "      <td>2.000000</td>\n",
       "      <td>1.000000</td>\n",
       "      <td>0.100000</td>\n",
       "      <td>0.000000</td>\n",
       "    </tr>\n",
       "    <tr>\n",
       "      <th>25%</th>\n",
       "      <td>5.100000</td>\n",
       "      <td>2.800000</td>\n",
       "      <td>1.600000</td>\n",
       "      <td>0.300000</td>\n",
       "      <td>0.000000</td>\n",
       "    </tr>\n",
       "    <tr>\n",
       "      <th>50%</th>\n",
       "      <td>5.800000</td>\n",
       "      <td>3.000000</td>\n",
       "      <td>4.350000</td>\n",
       "      <td>1.300000</td>\n",
       "      <td>1.000000</td>\n",
       "    </tr>\n",
       "    <tr>\n",
       "      <th>75%</th>\n",
       "      <td>6.400000</td>\n",
       "      <td>3.300000</td>\n",
       "      <td>5.100000</td>\n",
       "      <td>1.800000</td>\n",
       "      <td>2.000000</td>\n",
       "    </tr>\n",
       "    <tr>\n",
       "      <th>max</th>\n",
       "      <td>7.900000</td>\n",
       "      <td>4.400000</td>\n",
       "      <td>6.900000</td>\n",
       "      <td>2.500000</td>\n",
       "      <td>2.000000</td>\n",
       "    </tr>\n",
       "  </tbody>\n",
       "</table>\n",
       "</div>"
      ],
      "text/plain": [
       "       Sepal_Length  Sepal_Width  Petal_Length  Petal_Width      Target\n",
       "count    150.000000   150.000000    150.000000   150.000000  150.000000\n",
       "mean       5.843333     3.057333      3.758000     1.199333    1.000000\n",
       "std        0.828066     0.435866      1.765298     0.762238    0.819232\n",
       "min        4.300000     2.000000      1.000000     0.100000    0.000000\n",
       "25%        5.100000     2.800000      1.600000     0.300000    0.000000\n",
       "50%        5.800000     3.000000      4.350000     1.300000    1.000000\n",
       "75%        6.400000     3.300000      5.100000     1.800000    2.000000\n",
       "max        7.900000     4.400000      6.900000     2.500000    2.000000"
      ]
     },
     "execution_count": 497,
     "metadata": {},
     "output_type": "execute_result"
    }
   ],
   "source": [
    "# Describe Data\n",
    "df.describe()"
   ]
  },
  {
   "cell_type": "code",
   "execution_count": 498,
   "metadata": {},
   "outputs": [
    {
     "data": {
      "image/png": "[encoded data removed]",
      "text/plain": [
       "<Figure size 432x288 with 1 Axes>"
      ]
     },
     "metadata": {},
     "output_type": "display_data"
    }
   ],
   "source": [
    "# Create pie chart comparing relative amounts of each species type\n",
    "counts = pd.value_counts(df['Species'])\n",
    "plt.pie(counts,labels=(iris.target_names),colors=('lightblue','orange','lightgreen'),autopct='%1.1f%%')\n",
    "plt.title(\"Distribution of Species Types\",size=20)\n",
    "plt.show()"
   ]
  },
  {
   "cell_type": "code",
   "execution_count": 499,
   "metadata": {},
   "outputs": [
    {
     "data": {
      "text/plain": [
       "<matplotlib.axes._subplots.AxesSubplot at 0x14c34230>"
      ]
     },
     "execution_count": 499,
     "metadata": {},
     "output_type": "execute_result"
    },
    {
     "data": {
      "image/png": "[encoded data removed]",
      "text/plain": [
       "<Figure size 432x288 with 2 Axes>"
      ]
     },
     "metadata": {
      "needs_background": "light"
     },
     "output_type": "display_data"
    }
   ],
   "source": [
    "# Create Heatmap of data\n",
    "sns.heatmap(df.corr(),cmap='viridis')"
   ]
  },
  {
   "cell_type": "code",
   "execution_count": 500,
   "metadata": {},
   "outputs": [
    {
     "data": {
      "text/plain": [
       "Text(0.5, 1.0, 'Petal Size by Species')"
      ]
     },
     "execution_count": 500,
     "metadata": {},
     "output_type": "execute_result"
    },
    {
     "data": {
      "image/png": "[encoded data removed]",
      "text/plain": [
       "<Figure size 1440x360 with 2 Axes>"
      ]
     },
     "metadata": {
      "needs_background": "light"
     },
     "output_type": "display_data"
    }
   ],
   "source": [
    "# Create plots showing groupings of data by species of iris\n",
    "plt.figure(figsize=(20,5))\n",
    "\n",
    "# Plot sepal size by species\n",
    "plt.subplot(1, 2, 1)\n",
    "sns.scatterplot(x=df['Sepal_Length'],y=df['Sepal_Width'],hue=df['Species'],data=df)\n",
    "plt.title('Sepal Size by Species',size=20)\n",
    " \n",
    "# Plot petal size by species  \n",
    "plt.subplot(1, 2, 2)\n",
    "sns.scatterplot(x=df['Petal_Length'],y=df['Petal_Width'],hue=df['Species'],data=df)\n",
    "plt.title('Petal Size by Species',size=20)"
   ]
  },
  {
   "cell_type": "code",
   "execution_count": 501,
   "metadata": {},
   "outputs": [
    {
     "data": {
      "text/plain": [
       "Text(0.5, 1.0, 'Sepal Width (cm)')"
      ]
     },
     "execution_count": 501,
     "metadata": {},
     "output_type": "execute_result"
    },
    {
     "data": {
      "image/png": "[encoded data removed]",
      "text/plain": [
       "<Figure size 1440x144 with 4 Axes>"
      ]
     },
     "metadata": {
      "needs_background": "light"
     },
     "output_type": "display_data"
    }
   ],
   "source": [
    "# Create violin plots of each measurement by species type \n",
    "f = plt.figure(figsize=(20,2))\n",
    "plt.subplot(144)\n",
    "sns.violinplot(x='Species', y='Petal_Length', data=df)\n",
    "plt.title('Petal Length (cm)')\n",
    "plt.subplot(143)\n",
    "sns.violinplot(x='Species', y='Petal_Width', data=df)\n",
    "plt.title('Petal Width (cm)')\n",
    "plt.subplot(142)\n",
    "sns.violinplot(x='Species', y='Sepal_Length', data=df)\n",
    "plt.title('Sepal Length (cm)')\n",
    "plt.subplot(141)\n",
    "sns.violinplot(x='Species', y='Sepal_Width', data=df)\n",
    "plt.title('Sepal Width (cm)')"
   ]
  },
  {
   "cell_type": "code",
   "execution_count": 502,
   "metadata": {},
   "outputs": [],
   "source": [
    "# Seperate into X and Y Variables\n",
    "X = df[['Sepal_Length','Sepal_Width','Petal_Length','Petal_Width']]\n",
    "Y = df[['Target']]"
   ]
  },
  {
   "cell_type": "code",
   "execution_count": 607,
   "metadata": {},
   "outputs": [],
   "source": [
    "# Define function to compare actual clusters with predicted clusters\n",
    "def compare_clusters():\n",
    "    # Plot Model results vs actual results\n",
    "    plt.subplot(221)\n",
    "    plt.scatter(df['Petal_Length'], df['Petal_Width'], c=Y['Target'])\n",
    "    plt.title('Real Classification')\n",
    "# Plot the Models Classifications\n",
    "    plt.subplot(222)\n",
    "    plt.scatter(df['Petal_Length'], df['Petal_Width'], c=Y_pred)\n",
    "    plt.title('Model Classification')\n",
    "# Plot the Original Classifications\n",
    "    plt.subplot(223)\n",
    "    plt.scatter(df['Sepal_Length'], df['Sepal_Width'], c=Y['Target'])\n",
    "# Plot the Models Classifications\n",
    "    plt.subplot(224)\n",
    "    plt.scatter(df['Sepal_Length'], df['Sepal_Width'], c=Y_pred)\n",
    "    plt.show()\n",
    "# Print accuracy and confusion matrix of results\n",
    "    score = round(sm.accuracy_score(Y['Target'],Y_pred)*100,2)\n",
    "    print('This clustering algorithm acccurately assigned {}% of the iris species'.format(score))\n",
    "    print('''''')\n",
    "    results = pd.DataFrame(sm.confusion_matrix(Y['Target'],Y_pred))\n",
    "    results.index = iris.target_names\n",
    "    results.columns = iris.target_names \n",
    "    return results"
   ]
  },
  {
   "cell_type": "code",
   "execution_count": 614,
   "metadata": {},
   "outputs": [],
   "source": [
    "# Define function to append results from clustering model for comparison\n",
    "\n",
    "# Create variables to store values from models in\n",
    "clustering_accuracy = []\n",
    "execution_time = []\n",
    "\n",
    "def append_results(model):\n",
    "    # Time model fit time\n",
    "    start = timeit.default_timer()\n",
    "    model.fit(X)\n",
    "    stop = timeit.default_timer()\n",
    "    time = stop-start\n",
    "    execution_time.append(time)\n",
    "    # Calculate Accuracy and Append\n",
    "    accuracy = sm.accuracy_score(Y['Target'],Y_pred)\n",
    "    clustering_accuracy.append(round(accuracy*100,2))"
   ]
  },
  {
   "cell_type": "markdown",
   "metadata": {},
   "source": [
    "# Clustering Algorithms: K-Means"
   ]
  },
  {
   "cell_type": "code",
   "execution_count": 609,
   "metadata": {},
   "outputs": [
    {
     "data": {
      "image/png": "[encoded data removed]",
      "text/plain": [
       "<Figure size 432x288 with 1 Axes>"
      ]
     },
     "metadata": {
      "needs_background": "light"
     },
     "output_type": "display_data"
    }
   ],
   "source": [
    "#Finding the optimum number of clusters for k-means classification using 'elbow method'\n",
    "values = []\n",
    "\n",
    "for num in range(1, 11):\n",
    "    kmeans = KMeans(n_clusters = num, init = 'k-means++', n_init = 10, random_state = 0)\n",
    "    kmeans.fit(X)\n",
    "    values.append(kmeans.inertia_)\n",
    "    \n",
    "#Plotting the results onto a line graph\n",
    "plt.plot(range(1, 11), values)\n",
    "plt.title('Elbow Method Cluster Estimation')\n",
    "plt.xlabel('Number of Clusters')\n",
    "plt.ylabel('Within Cluster Sum of Squares') \n",
    "# Looks like the plot levels out at 3 so that will be the number of clusters used\n",
    "plt.axvline(3,color='r',linestyle='--')\n",
    "plt.show()"
   ]
  },
  {
   "cell_type": "code",
   "execution_count": 612,
   "metadata": {},
   "outputs": [],
   "source": [
    "# Fit Model\n",
    "kmeans = KMeans(n_clusters=3)\n",
    "kmeans.fit(X)\n",
    "# Assign cluster numbers to predicted clusters\n",
    "Y_pred = np.choose(kmeans.labels_, [0, 1, 2]).astype(np.int64)"
   ]
  },
  {
   "cell_type": "code",
   "execution_count": 613,
   "metadata": {},
   "outputs": [
    {
     "data": {
      "image/png": "[encoded data removed]",
      "text/plain": [
       "<Figure size 432x288 with 4 Axes>"
      ]
     },
     "metadata": {
      "needs_background": "light"
     },
     "output_type": "display_data"
    },
    {
     "name": "stdout",
     "output_type": "stream",
     "text": [
      "This clustering algorithm acccurately assigned 89.33% of the iris species\n",
      "\n"
     ]
    },
    {
     "data": {
      "text/html": [
       "<div>\n",
       "<style scoped>\n",
       "    .dataframe tbody tr th:only-of-type {\n",
       "        vertical-align: middle;\n",
       "    }\n",
       "\n",
       "    .dataframe tbody tr th {\n",
       "        vertical-align: top;\n",
       "    }\n",
       "\n",
       "    .dataframe thead th {\n",
       "        text-align: right;\n",
       "    }\n",
       "</style>\n",
       "<table border=\"1\" class=\"dataframe\">\n",
       "  <thead>\n",
       "    <tr style=\"text-align: right;\">\n",
       "      <th></th>\n",
       "      <th>setosa</th>\n",
       "      <th>versicolor</th>\n",
       "      <th>virginica</th>\n",
       "    </tr>\n",
       "  </thead>\n",
       "  <tbody>\n",
       "    <tr>\n",
       "      <th>setosa</th>\n",
       "      <td>50</td>\n",
       "      <td>0</td>\n",
       "      <td>0</td>\n",
       "    </tr>\n",
       "    <tr>\n",
       "      <th>versicolor</th>\n",
       "      <td>0</td>\n",
       "      <td>48</td>\n",
       "      <td>2</td>\n",
       "    </tr>\n",
       "    <tr>\n",
       "      <th>virginica</th>\n",
       "      <td>0</td>\n",
       "      <td>14</td>\n",
       "      <td>36</td>\n",
       "    </tr>\n",
       "  </tbody>\n",
       "</table>\n",
       "</div>"
      ],
      "text/plain": [
       "            setosa  versicolor  virginica\n",
       "setosa          50           0          0\n",
       "versicolor       0          48          2\n",
       "virginica        0          14         36"
      ]
     },
     "execution_count": 613,
     "metadata": {},
     "output_type": "execute_result"
    }
   ],
   "source": [
    "compare_clusters()"
   ]
  },
  {
   "cell_type": "code",
   "execution_count": 615,
   "metadata": {},
   "outputs": [],
   "source": [
    "# Store results from model\n",
    "append_results(kmeans)"
   ]
  },
  {
   "cell_type": "markdown",
   "metadata": {},
   "source": [
    "# Clustering Algorithms: Mean Shift"
   ]
  },
  {
   "cell_type": "code",
   "execution_count": 593,
   "metadata": {},
   "outputs": [
    {
     "name": "stdout",
     "output_type": "stream",
     "text": [
      "1.2020768127998687\n"
     ]
    }
   ],
   "source": [
    "# Estimate Bandwidth\n",
    "bandwidth = estimate_bandwidth(X)\n",
    "print(bandwidth)"
   ]
  },
  {
   "cell_type": "code",
   "execution_count": 616,
   "metadata": {},
   "outputs": [],
   "source": [
    "# Fit model using bandwidth calculated above\n",
    "ms = MeanShift(bandwidth=bandwidth,bin_seeding=True)\n",
    "ms.fit(X)\n",
    "# Assign cluster numbers to predicted clusters\n",
    "Y_pred = np.choose(ms.labels_, [1, 0, 2]).astype(np.int64)"
   ]
  },
  {
   "cell_type": "code",
   "execution_count": 617,
   "metadata": {},
   "outputs": [
    {
     "data": {
      "image/png": "[encoded data removed]",
      "text/plain": [
       "<Figure size 432x288 with 4 Axes>"
      ]
     },
     "metadata": {
      "needs_background": "light"
     },
     "output_type": "display_data"
    },
    {
     "name": "stdout",
     "output_type": "stream",
     "text": [
      "This clustering algorithm acccurately assigned 66.0% of the iris species\n",
      "\n"
     ]
    },
    {
     "data": {
      "text/html": [
       "<div>\n",
       "<style scoped>\n",
       "    .dataframe tbody tr th:only-of-type {\n",
       "        vertical-align: middle;\n",
       "    }\n",
       "\n",
       "    .dataframe tbody tr th {\n",
       "        vertical-align: top;\n",
       "    }\n",
       "\n",
       "    .dataframe thead th {\n",
       "        text-align: right;\n",
       "    }\n",
       "</style>\n",
       "<table border=\"1\" class=\"dataframe\">\n",
       "  <thead>\n",
       "    <tr style=\"text-align: right;\">\n",
       "      <th></th>\n",
       "      <th>setosa</th>\n",
       "      <th>versicolor</th>\n",
       "      <th>virginica</th>\n",
       "    </tr>\n",
       "  </thead>\n",
       "  <tbody>\n",
       "    <tr>\n",
       "      <th>setosa</th>\n",
       "      <td>50</td>\n",
       "      <td>0</td>\n",
       "      <td>0</td>\n",
       "    </tr>\n",
       "    <tr>\n",
       "      <th>versicolor</th>\n",
       "      <td>1</td>\n",
       "      <td>49</td>\n",
       "      <td>0</td>\n",
       "    </tr>\n",
       "    <tr>\n",
       "      <th>virginica</th>\n",
       "      <td>0</td>\n",
       "      <td>50</td>\n",
       "      <td>0</td>\n",
       "    </tr>\n",
       "  </tbody>\n",
       "</table>\n",
       "</div>"
      ],
      "text/plain": [
       "            setosa  versicolor  virginica\n",
       "setosa          50           0          0\n",
       "versicolor       1          49          0\n",
       "virginica        0          50          0"
      ]
     },
     "execution_count": 617,
     "metadata": {},
     "output_type": "execute_result"
    }
   ],
   "source": [
    "compare_clusters()"
   ]
  },
  {
   "cell_type": "code",
   "execution_count": null,
   "metadata": {},
   "outputs": [],
   "source": [
    "# This clustering model completely misses one class of iris, most\n",
    "# likely due to the fact that the two clusters are very close to each other\n",
    "# causing the clustering algorithm to identify these as one cluster"
   ]
  },
  {
   "cell_type": "code",
   "execution_count": 618,
   "metadata": {},
   "outputs": [],
   "source": [
    "# Store results from model\n",
    "append_results(ms)"
   ]
  },
  {
   "cell_type": "markdown",
   "metadata": {},
   "source": [
    "# Clustering Algorithm: Spectral Affinity"
   ]
  },
  {
   "cell_type": "code",
   "execution_count": 568,
   "metadata": {},
   "outputs": [
    {
     "name": "stdout",
     "output_type": "stream",
     "text": [
      "for K=3: silhouette: 0.5553\n",
      "for K=4: silhouette: 0.4917\n",
      "for K=5: silhouette: 0.4539\n",
      "for K=6: silhouette: 0.3377\n"
     ]
    }
   ],
   "source": [
    "# Model Optimization\n",
    "\n",
    "# Run spectral clustering model for multiple k values\n",
    "for k in np.arange(3, 7, 1):\n",
    "    sc = SpectralClustering(n_clusters=k, random_state=42).fit(X)\n",
    "    labels = sc.labels_\n",
    "    silhouette = metrics.silhouette_score(X, labels, metric='euclidean')\n",
    "    print('for K={}: silhouette: {}'.format(k, round(silhouette,4)))"
   ]
  },
  {
   "cell_type": "code",
   "execution_count": 621,
   "metadata": {},
   "outputs": [],
   "source": [
    "# Run spectral clustering model for 3 clusters\n",
    "sc = SpectralClustering(n_clusters=3)\n",
    "sc.fit(X)\n",
    "# Assign cluster numbers to predicted clusters\n",
    "Y_pred = np.choose(sc.labels_, [1, 0, 2]).astype(np.int64)"
   ]
  },
  {
   "cell_type": "code",
   "execution_count": 622,
   "metadata": {},
   "outputs": [
    {
     "data": {
      "image/png": "[encoded data removed]",
      "text/plain": [
       "<Figure size 432x288 with 4 Axes>"
      ]
     },
     "metadata": {
      "needs_background": "light"
     },
     "output_type": "display_data"
    },
    {
     "name": "stdout",
     "output_type": "stream",
     "text": [
      "This clustering algorithm acccurately assigned 90.0% of the iris species\n",
      "\n"
     ]
    },
    {
     "data": {
      "text/html": [
       "<div>\n",
       "<style scoped>\n",
       "    .dataframe tbody tr th:only-of-type {\n",
       "        vertical-align: middle;\n",
       "    }\n",
       "\n",
       "    .dataframe tbody tr th {\n",
       "        vertical-align: top;\n",
       "    }\n",
       "\n",
       "    .dataframe thead th {\n",
       "        text-align: right;\n",
       "    }\n",
       "</style>\n",
       "<table border=\"1\" class=\"dataframe\">\n",
       "  <thead>\n",
       "    <tr style=\"text-align: right;\">\n",
       "      <th></th>\n",
       "      <th>setosa</th>\n",
       "      <th>versicolor</th>\n",
       "      <th>virginica</th>\n",
       "    </tr>\n",
       "  </thead>\n",
       "  <tbody>\n",
       "    <tr>\n",
       "      <th>setosa</th>\n",
       "      <td>50</td>\n",
       "      <td>0</td>\n",
       "      <td>0</td>\n",
       "    </tr>\n",
       "    <tr>\n",
       "      <th>versicolor</th>\n",
       "      <td>0</td>\n",
       "      <td>50</td>\n",
       "      <td>0</td>\n",
       "    </tr>\n",
       "    <tr>\n",
       "      <th>virginica</th>\n",
       "      <td>0</td>\n",
       "      <td>15</td>\n",
       "      <td>35</td>\n",
       "    </tr>\n",
       "  </tbody>\n",
       "</table>\n",
       "</div>"
      ],
      "text/plain": [
       "            setosa  versicolor  virginica\n",
       "setosa          50           0          0\n",
       "versicolor       0          50          0\n",
       "virginica        0          15         35"
      ]
     },
     "execution_count": 622,
     "metadata": {},
     "output_type": "execute_result"
    }
   ],
   "source": [
    "compare_clusters()"
   ]
  },
  {
   "cell_type": "code",
   "execution_count": 623,
   "metadata": {},
   "outputs": [],
   "source": [
    "# Store model results\n",
    "append_results(sc)"
   ]
  },
  {
   "cell_type": "code",
   "execution_count": 624,
   "metadata": {},
   "outputs": [],
   "source": [
    "# Collect clustering results into one dataframe\n",
    "models = ['K-Means','Mean Shift','Spectral Affinity']\n",
    "clust_results = pd.DataFrame(index=models)\n",
    "clust_results['Model Accuracy (%)'] = clustering_accuracy\n",
    "clust_results['Runtime (Seconds)'] = execution_time"
   ]
  },
  {
   "cell_type": "code",
   "execution_count": 625,
   "metadata": {},
   "outputs": [
    {
     "data": {
      "text/html": [
       "<div>\n",
       "<style scoped>\n",
       "    .dataframe tbody tr th:only-of-type {\n",
       "        vertical-align: middle;\n",
       "    }\n",
       "\n",
       "    .dataframe tbody tr th {\n",
       "        vertical-align: top;\n",
       "    }\n",
       "\n",
       "    .dataframe thead th {\n",
       "        text-align: right;\n",
       "    }\n",
       "</style>\n",
       "<table border=\"1\" class=\"dataframe\">\n",
       "  <thead>\n",
       "    <tr style=\"text-align: right;\">\n",
       "      <th></th>\n",
       "      <th>Model Accuracy (%)</th>\n",
       "      <th>Runtime (Seconds)</th>\n",
       "    </tr>\n",
       "  </thead>\n",
       "  <tbody>\n",
       "    <tr>\n",
       "      <th>K-Means</th>\n",
       "      <td>89.33</td>\n",
       "      <td>0.032747</td>\n",
       "    </tr>\n",
       "    <tr>\n",
       "      <th>Mean Shift</th>\n",
       "      <td>66.00</td>\n",
       "      <td>0.196203</td>\n",
       "    </tr>\n",
       "    <tr>\n",
       "      <th>Spectral Affinity</th>\n",
       "      <td>90.00</td>\n",
       "      <td>0.077981</td>\n",
       "    </tr>\n",
       "  </tbody>\n",
       "</table>\n",
       "</div>"
      ],
      "text/plain": [
       "                   Model Accuracy (%)  Runtime (Seconds)\n",
       "K-Means                         89.33           0.032747\n",
       "Mean Shift                      66.00           0.196203\n",
       "Spectral Affinity               90.00           0.077981"
      ]
     },
     "execution_count": 625,
     "metadata": {},
     "output_type": "execute_result"
    }
   ],
   "source": [
    "# Display results of clustering algorithms\n",
    "clust_results"
   ]
  },
  {
   "cell_type": "markdown",
   "metadata": {},
   "source": [
    "# Comparison with Other Machine Learning Algorithms"
   ]
  },
  {
   "cell_type": "code",
   "execution_count": 626,
   "metadata": {},
   "outputs": [],
   "source": [
    "# Define Function to evaluate models below\n",
    "\n",
    "# Create variables to store values from models in\n",
    "model_accuracy = []\n",
    "cross_val_accuracy = []\n",
    "runtime = []\n",
    "\n",
    "def test_model(regression):\n",
    "# Fit model and time it\n",
    "    start = timeit.default_timer()\n",
    "    regression.fit(X,Y['Target'])\n",
    "    stop = timeit.default_timer()\n",
    "    time = stop-start\n",
    "# Generate Confusion Matrix\n",
    "    y_pred = regression.predict(X)\n",
    "    results = pd.DataFrame(sm.confusion_matrix(Y['Target'],y_pred))\n",
    "    results.index = iris.target_names\n",
    "    results.columns = iris.target_names \n",
    "# Calculate 5 Fold Cross Validation Accuracy\n",
    "    score = cross_val_score(regression,X,Y['Target'],cv=5)\n",
    "    cross_val_accuracy.append(round(score.mean()*100,2))\n",
    "# Calculate Predictive Accuracy\n",
    "    df1 = pd.DataFrame()\n",
    "    df1['Actual_Values'] = Y['Target']\n",
    "    df1['Predicted_Values'] = y_pred \n",
    "    df2 = df1[df1['Actual_Values']==df1['Predicted_Values']]\n",
    "    model_accuracy.append(round((len(df2)/len(df1))*100,2))\n",
    "    runtime.append(time)\n",
    "# Print Results\n",
    "    cv_results = round(pd.DataFrame(score*100),2)\n",
    "    cv_results.columns = ['5 Fold Cross Validation Results']\n",
    "    cv_results.index = ['','','','','']\n",
    "    print(cv_results)\n",
    "    print('''''')\n",
    "    print(\"Average 5 Fold Cross Validation Predictive Accuracy: {}%\".format(round(score.mean()*100,2)))\n",
    "    print('''''')\n",
    "    print('{} predicted correctly out of {} from training set'.format(len(df2),len(df1)))\n",
    "    print('''''')\n",
    "    print('Training Set Predictive Accuracy: {}%'.format(round((len(df2)/len(df1))*100),2))\n",
    "    return results"
   ]
  },
  {
   "cell_type": "code",
   "execution_count": 627,
   "metadata": {},
   "outputs": [
    {
     "name": "stdout",
     "output_type": "stream",
     "text": [
      "0.98\n",
      "0.96\n",
      "0.96\n",
      "0.9666666666666667\n",
      "0.9733333333333334\n",
      "0.9733333333333334\n",
      "0.98\n",
      "0.98\n"
     ]
    }
   ],
   "source": [
    "# Optimization of K-Neighbors model\n",
    "\n",
    "# Run K neighbors model for different #s of neighbors\n",
    "for n in np.arange(2,10,1):\n",
    "    knn = KNeighborsClassifier(n_neighbors=n)\n",
    "    knn.fit(X,Y['Target'])\n",
    "    Y_pred = knn.predict(X)\n",
    "    print(sm.accuracy_score(Y['Target'],Y_pred))\n",
    "# Looks like 2 neighbors is the simplest way to get the best results"
   ]
  },
  {
   "cell_type": "code",
   "execution_count": 628,
   "metadata": {},
   "outputs": [
    {
     "name": "stdout",
     "output_type": "stream",
     "text": [
      "  5 Fold Cross Validation Results\n",
      "                            96.67\n",
      "                            93.33\n",
      "                            93.33\n",
      "                            90.00\n",
      "                           100.00\n",
      "\n",
      "Average 5 Fold Cross Validation Predictive Accuracy: 94.67%\n",
      "\n",
      "147 predicted correctly out of 150 from training set\n",
      "\n",
      "Training Set Predictive Accuracy: 98%\n"
     ]
    },
    {
     "data": {
      "text/html": [
       "<div>\n",
       "<style scoped>\n",
       "    .dataframe tbody tr th:only-of-type {\n",
       "        vertical-align: middle;\n",
       "    }\n",
       "\n",
       "    .dataframe tbody tr th {\n",
       "        vertical-align: top;\n",
       "    }\n",
       "\n",
       "    .dataframe thead th {\n",
       "        text-align: right;\n",
       "    }\n",
       "</style>\n",
       "<table border=\"1\" class=\"dataframe\">\n",
       "  <thead>\n",
       "    <tr style=\"text-align: right;\">\n",
       "      <th></th>\n",
       "      <th>setosa</th>\n",
       "      <th>versicolor</th>\n",
       "      <th>virginica</th>\n",
       "    </tr>\n",
       "  </thead>\n",
       "  <tbody>\n",
       "    <tr>\n",
       "      <th>setosa</th>\n",
       "      <td>50</td>\n",
       "      <td>0</td>\n",
       "      <td>0</td>\n",
       "    </tr>\n",
       "    <tr>\n",
       "      <th>versicolor</th>\n",
       "      <td>0</td>\n",
       "      <td>50</td>\n",
       "      <td>0</td>\n",
       "    </tr>\n",
       "    <tr>\n",
       "      <th>virginica</th>\n",
       "      <td>0</td>\n",
       "      <td>3</td>\n",
       "      <td>47</td>\n",
       "    </tr>\n",
       "  </tbody>\n",
       "</table>\n",
       "</div>"
      ],
      "text/plain": [
       "            setosa  versicolor  virginica\n",
       "setosa          50           0          0\n",
       "versicolor       0          50          0\n",
       "virginica        0           3         47"
      ]
     },
     "execution_count": 628,
     "metadata": {},
     "output_type": "execute_result"
    }
   ],
   "source": [
    "# K Nearest Neighbors Model\n",
    "knn = KNeighborsClassifier(n_neighbors=2)\n",
    "test_model(knn)"
   ]
  },
  {
   "cell_type": "code",
   "execution_count": 629,
   "metadata": {},
   "outputs": [
    {
     "name": "stdout",
     "output_type": "stream",
     "text": [
      "  5 Fold Cross Validation Results\n",
      "                            96.67\n",
      "                           100.00\n",
      "                            96.67\n",
      "                            96.67\n",
      "                           100.00\n",
      "\n",
      "Average 5 Fold Cross Validation Predictive Accuracy: 98.0%\n",
      "\n",
      "148 predicted correctly out of 150 from training set\n",
      "\n",
      "Training Set Predictive Accuracy: 99%\n"
     ]
    },
    {
     "data": {
      "text/html": [
       "<div>\n",
       "<style scoped>\n",
       "    .dataframe tbody tr th:only-of-type {\n",
       "        vertical-align: middle;\n",
       "    }\n",
       "\n",
       "    .dataframe tbody tr th {\n",
       "        vertical-align: top;\n",
       "    }\n",
       "\n",
       "    .dataframe thead th {\n",
       "        text-align: right;\n",
       "    }\n",
       "</style>\n",
       "<table border=\"1\" class=\"dataframe\">\n",
       "  <thead>\n",
       "    <tr style=\"text-align: right;\">\n",
       "      <th></th>\n",
       "      <th>setosa</th>\n",
       "      <th>versicolor</th>\n",
       "      <th>virginica</th>\n",
       "    </tr>\n",
       "  </thead>\n",
       "  <tbody>\n",
       "    <tr>\n",
       "      <th>setosa</th>\n",
       "      <td>50</td>\n",
       "      <td>0</td>\n",
       "      <td>0</td>\n",
       "    </tr>\n",
       "    <tr>\n",
       "      <th>versicolor</th>\n",
       "      <td>0</td>\n",
       "      <td>48</td>\n",
       "      <td>2</td>\n",
       "    </tr>\n",
       "    <tr>\n",
       "      <th>virginica</th>\n",
       "      <td>0</td>\n",
       "      <td>0</td>\n",
       "      <td>50</td>\n",
       "    </tr>\n",
       "  </tbody>\n",
       "</table>\n",
       "</div>"
      ],
      "text/plain": [
       "            setosa  versicolor  virginica\n",
       "setosa          50           0          0\n",
       "versicolor       0          48          2\n",
       "virginica        0           0         50"
      ]
     },
     "execution_count": 629,
     "metadata": {},
     "output_type": "execute_result"
    }
   ],
   "source": [
    "# Support Vector Classifier Model \n",
    "svm_class = svm.SVC(gamma='auto')\n",
    "test_model(svm_class)"
   ]
  },
  {
   "cell_type": "code",
   "execution_count": 630,
   "metadata": {},
   "outputs": [
    {
     "name": "stdout",
     "output_type": "stream",
     "text": [
      "  5 Fold Cross Validation Results\n",
      "                           100.00\n",
      "                            96.67\n",
      "                            96.67\n",
      "                            96.67\n",
      "                           100.00\n",
      "\n",
      "Average 5 Fold Cross Validation Predictive Accuracy: 98.0%\n",
      "\n",
      "147 predicted correctly out of 150 from training set\n",
      "\n",
      "Training Set Predictive Accuracy: 98%\n"
     ]
    },
    {
     "data": {
      "text/html": [
       "<div>\n",
       "<style scoped>\n",
       "    .dataframe tbody tr th:only-of-type {\n",
       "        vertical-align: middle;\n",
       "    }\n",
       "\n",
       "    .dataframe tbody tr th {\n",
       "        vertical-align: top;\n",
       "    }\n",
       "\n",
       "    .dataframe thead th {\n",
       "        text-align: right;\n",
       "    }\n",
       "</style>\n",
       "<table border=\"1\" class=\"dataframe\">\n",
       "  <thead>\n",
       "    <tr style=\"text-align: right;\">\n",
       "      <th></th>\n",
       "      <th>setosa</th>\n",
       "      <th>versicolor</th>\n",
       "      <th>virginica</th>\n",
       "    </tr>\n",
       "  </thead>\n",
       "  <tbody>\n",
       "    <tr>\n",
       "      <th>setosa</th>\n",
       "      <td>50</td>\n",
       "      <td>0</td>\n",
       "      <td>0</td>\n",
       "    </tr>\n",
       "    <tr>\n",
       "      <th>versicolor</th>\n",
       "      <td>0</td>\n",
       "      <td>48</td>\n",
       "      <td>2</td>\n",
       "    </tr>\n",
       "    <tr>\n",
       "      <th>virginica</th>\n",
       "      <td>0</td>\n",
       "      <td>1</td>\n",
       "      <td>49</td>\n",
       "    </tr>\n",
       "  </tbody>\n",
       "</table>\n",
       "</div>"
      ],
      "text/plain": [
       "            setosa  versicolor  virginica\n",
       "setosa          50           0          0\n",
       "versicolor       0          48          2\n",
       "virginica        0           1         49"
      ]
     },
     "execution_count": 630,
     "metadata": {},
     "output_type": "execute_result"
    }
   ],
   "source": [
    "# Neural Networks, most effective model found is three levels 10 deep \n",
    "# Less than 10,000 max iterations failed to converge and produced bad results\n",
    "mlp = MLPClassifier(hidden_layer_sizes=(10, 10, 10), max_iter=10000)  \n",
    "test_model(mlp)"
   ]
  },
  {
   "cell_type": "code",
   "execution_count": 631,
   "metadata": {},
   "outputs": [
    {
     "name": "stdout",
     "output_type": "stream",
     "text": [
      "  5 Fold Cross Validation Results\n",
      "                            96.67\n",
      "                            96.67\n",
      "                            90.00\n",
      "                            93.33\n",
      "                           100.00\n",
      "\n",
      "Average 5 Fold Cross Validation Predictive Accuracy: 95.33%\n",
      "\n",
      "150 predicted correctly out of 150 from training set\n",
      "\n",
      "Training Set Predictive Accuracy: 100%\n"
     ]
    },
    {
     "data": {
      "text/html": [
       "<div>\n",
       "<style scoped>\n",
       "    .dataframe tbody tr th:only-of-type {\n",
       "        vertical-align: middle;\n",
       "    }\n",
       "\n",
       "    .dataframe tbody tr th {\n",
       "        vertical-align: top;\n",
       "    }\n",
       "\n",
       "    .dataframe thead th {\n",
       "        text-align: right;\n",
       "    }\n",
       "</style>\n",
       "<table border=\"1\" class=\"dataframe\">\n",
       "  <thead>\n",
       "    <tr style=\"text-align: right;\">\n",
       "      <th></th>\n",
       "      <th>setosa</th>\n",
       "      <th>versicolor</th>\n",
       "      <th>virginica</th>\n",
       "    </tr>\n",
       "  </thead>\n",
       "  <tbody>\n",
       "    <tr>\n",
       "      <th>setosa</th>\n",
       "      <td>50</td>\n",
       "      <td>0</td>\n",
       "      <td>0</td>\n",
       "    </tr>\n",
       "    <tr>\n",
       "      <th>versicolor</th>\n",
       "      <td>0</td>\n",
       "      <td>50</td>\n",
       "      <td>0</td>\n",
       "    </tr>\n",
       "    <tr>\n",
       "      <th>virginica</th>\n",
       "      <td>0</td>\n",
       "      <td>0</td>\n",
       "      <td>50</td>\n",
       "    </tr>\n",
       "  </tbody>\n",
       "</table>\n",
       "</div>"
      ],
      "text/plain": [
       "            setosa  versicolor  virginica\n",
       "setosa          50           0          0\n",
       "versicolor       0          50          0\n",
       "virginica        0           0         50"
      ]
     },
     "execution_count": 631,
     "metadata": {},
     "output_type": "execute_result"
    }
   ],
   "source": [
    "# Decision Tree Classifier - Max depth of 5 is lowest # w/ best results\n",
    "dt = tree.DecisionTreeClassifier(criterion='entropy',\n",
    "                                max_depth=5)\n",
    "test_model(dt)"
   ]
  },
  {
   "cell_type": "code",
   "execution_count": 632,
   "metadata": {},
   "outputs": [
    {
     "name": "stdout",
     "output_type": "stream",
     "text": [
      "  5 Fold Cross Validation Results\n",
      "                            96.67\n",
      "                            96.67\n",
      "                            93.33\n",
      "                            90.00\n",
      "                           100.00\n",
      "\n",
      "Average 5 Fold Cross Validation Predictive Accuracy: 95.33%\n",
      "\n",
      "148 predicted correctly out of 150 from training set\n",
      "\n",
      "Training Set Predictive Accuracy: 99%\n"
     ]
    },
    {
     "data": {
      "text/html": [
       "<div>\n",
       "<style scoped>\n",
       "    .dataframe tbody tr th:only-of-type {\n",
       "        vertical-align: middle;\n",
       "    }\n",
       "\n",
       "    .dataframe tbody tr th {\n",
       "        vertical-align: top;\n",
       "    }\n",
       "\n",
       "    .dataframe thead th {\n",
       "        text-align: right;\n",
       "    }\n",
       "</style>\n",
       "<table border=\"1\" class=\"dataframe\">\n",
       "  <thead>\n",
       "    <tr style=\"text-align: right;\">\n",
       "      <th></th>\n",
       "      <th>setosa</th>\n",
       "      <th>versicolor</th>\n",
       "      <th>virginica</th>\n",
       "    </tr>\n",
       "  </thead>\n",
       "  <tbody>\n",
       "    <tr>\n",
       "      <th>setosa</th>\n",
       "      <td>50</td>\n",
       "      <td>0</td>\n",
       "      <td>0</td>\n",
       "    </tr>\n",
       "    <tr>\n",
       "      <th>versicolor</th>\n",
       "      <td>0</td>\n",
       "      <td>49</td>\n",
       "      <td>1</td>\n",
       "    </tr>\n",
       "    <tr>\n",
       "      <th>virginica</th>\n",
       "      <td>0</td>\n",
       "      <td>1</td>\n",
       "      <td>49</td>\n",
       "    </tr>\n",
       "  </tbody>\n",
       "</table>\n",
       "</div>"
      ],
      "text/plain": [
       "            setosa  versicolor  virginica\n",
       "setosa          50           0          0\n",
       "versicolor       0          49          1\n",
       "virginica        0           1         49"
      ]
     },
     "execution_count": 632,
     "metadata": {},
     "output_type": "execute_result"
    }
   ],
   "source": [
    "# Random Forest Classifier - results shift within single number of estimators - 7 seems to be most effective though\n",
    "rfc = ensemble.RandomForestClassifier(n_estimators=7)\n",
    "test_model(rfc)"
   ]
  },
  {
   "cell_type": "code",
   "execution_count": 636,
   "metadata": {},
   "outputs": [],
   "source": [
    "# Collect results from models into one dataframe\n",
    "models = ['K Nearest Neighbors','SVC','Neural Networks','Decision Tree', 'Random Forest']\n",
    "results = pd.DataFrame(index=models)\n",
    "results['Model Accuracy (%)'] = model_accuracy\n",
    "results['Average 5 Fold Cross Validation Accuracy (%)'] = cross_val_accuracy\n",
    "results['Runtime (Seconds)'] = runtime"
   ]
  },
  {
   "cell_type": "code",
   "execution_count": 637,
   "metadata": {},
   "outputs": [
    {
     "data": {
      "text/html": [
       "<div>\n",
       "<style scoped>\n",
       "    .dataframe tbody tr th:only-of-type {\n",
       "        vertical-align: middle;\n",
       "    }\n",
       "\n",
       "    .dataframe tbody tr th {\n",
       "        vertical-align: top;\n",
       "    }\n",
       "\n",
       "    .dataframe thead th {\n",
       "        text-align: right;\n",
       "    }\n",
       "</style>\n",
       "<table border=\"1\" class=\"dataframe\">\n",
       "  <thead>\n",
       "    <tr style=\"text-align: right;\">\n",
       "      <th></th>\n",
       "      <th>Model Accuracy (%)</th>\n",
       "      <th>Average 5 Fold Cross Validation Accuracy (%)</th>\n",
       "      <th>Runtime (Seconds)</th>\n",
       "    </tr>\n",
       "  </thead>\n",
       "  <tbody>\n",
       "    <tr>\n",
       "      <th>K Nearest Neighbors</th>\n",
       "      <td>98.00</td>\n",
       "      <td>94.67</td>\n",
       "      <td>0.001737</td>\n",
       "    </tr>\n",
       "    <tr>\n",
       "      <th>Decision Tree</th>\n",
       "      <td>100.00</td>\n",
       "      <td>95.33</td>\n",
       "      <td>0.003998</td>\n",
       "    </tr>\n",
       "    <tr>\n",
       "      <th>SVC</th>\n",
       "      <td>98.67</td>\n",
       "      <td>98.00</td>\n",
       "      <td>0.004190</td>\n",
       "    </tr>\n",
       "    <tr>\n",
       "      <th>Random Forest</th>\n",
       "      <td>98.67</td>\n",
       "      <td>95.33</td>\n",
       "      <td>0.011395</td>\n",
       "    </tr>\n",
       "    <tr>\n",
       "      <th>Neural Networks</th>\n",
       "      <td>98.00</td>\n",
       "      <td>98.00</td>\n",
       "      <td>0.994017</td>\n",
       "    </tr>\n",
       "  </tbody>\n",
       "</table>\n",
       "</div>"
      ],
      "text/plain": [
       "                     Model Accuracy (%)  \\\n",
       "K Nearest Neighbors               98.00   \n",
       "Decision Tree                    100.00   \n",
       "SVC                               98.67   \n",
       "Random Forest                     98.67   \n",
       "Neural Networks                   98.00   \n",
       "\n",
       "                     Average 5 Fold Cross Validation Accuracy (%)  \\\n",
       "K Nearest Neighbors                                         94.67   \n",
       "Decision Tree                                               95.33   \n",
       "SVC                                                         98.00   \n",
       "Random Forest                                               95.33   \n",
       "Neural Networks                                             98.00   \n",
       "\n",
       "                     Runtime (Seconds)  \n",
       "K Nearest Neighbors           0.001737  \n",
       "Decision Tree                 0.003998  \n",
       "SVC                           0.004190  \n",
       "Random Forest                 0.011395  \n",
       "Neural Networks               0.994017  "
      ]
     },
     "execution_count": 637,
     "metadata": {},
     "output_type": "execute_result"
    }
   ],
   "source": [
    "# Sort results by runtime and display\n",
    "results.sort_values(by='Runtime (Seconds)',ascending=True)"
   ]
  },
  {
   "cell_type": "code",
   "execution_count": 638,
   "metadata": {},
   "outputs": [
    {
     "data": {
      "text/html": [
       "<div>\n",
       "<style scoped>\n",
       "    .dataframe tbody tr th:only-of-type {\n",
       "        vertical-align: middle;\n",
       "    }\n",
       "\n",
       "    .dataframe tbody tr th {\n",
       "        vertical-align: top;\n",
       "    }\n",
       "\n",
       "    .dataframe thead th {\n",
       "        text-align: right;\n",
       "    }\n",
       "</style>\n",
       "<table border=\"1\" class=\"dataframe\">\n",
       "  <thead>\n",
       "    <tr style=\"text-align: right;\">\n",
       "      <th></th>\n",
       "      <th>Model Accuracy (%)</th>\n",
       "      <th>Runtime (Seconds)</th>\n",
       "    </tr>\n",
       "  </thead>\n",
       "  <tbody>\n",
       "    <tr>\n",
       "      <th>K-Means</th>\n",
       "      <td>89.33</td>\n",
       "      <td>0.032747</td>\n",
       "    </tr>\n",
       "    <tr>\n",
       "      <th>Spectral Affinity</th>\n",
       "      <td>90.00</td>\n",
       "      <td>0.077981</td>\n",
       "    </tr>\n",
       "    <tr>\n",
       "      <th>Mean Shift</th>\n",
       "      <td>66.00</td>\n",
       "      <td>0.196203</td>\n",
       "    </tr>\n",
       "  </tbody>\n",
       "</table>\n",
       "</div>"
      ],
      "text/plain": [
       "                   Model Accuracy (%)  Runtime (Seconds)\n",
       "K-Means                         89.33           0.032747\n",
       "Spectral Affinity               90.00           0.077981\n",
       "Mean Shift                      66.00           0.196203"
      ]
     },
     "execution_count": 638,
     "metadata": {},
     "output_type": "execute_result"
    }
   ],
   "source": [
    "# Compare with clustering algorithm results\n",
    "clust_results.sort_values(by='Runtime (Seconds)',ascending=True)"
   ]
  },
  {
   "cell_type": "markdown",
   "metadata": {},
   "source": [
    "# Overall the supervised machine learning models seemed to perform better than the clustering algorithms tested, both in terms of runtime and overall accuracy of results.  The Neural Networks seemed to produce the most accuracte resutls although the results from the model changed slightly each time the model was run. Furthermore the neural networks model took the longest out of any of the models to run.  Because of this I would say that the support vector classifier was the most effective model out of the models tested for this dataset."
   ]
  },
  {
   "cell_type": "code",
   "execution_count": null,
   "metadata": {},
   "outputs": [],
   "source": []
  },
  {
   "cell_type": "code",
   "execution_count": null,
   "metadata": {},
   "outputs": [],
   "source": []
  }
 ],
 "metadata": {
  "kernelspec": {
   "display_name": "Python 3",
   "language": "python",
   "name": "python3"
  },
  "language_info": {
   "codemirror_mode": {
    "name": "ipython",
    "version": 3
   },
   "file_extension": ".py",
   "mimetype": "text/x-python",
   "name": "python",
   "nbconvert_exporter": "python",
   "pygments_lexer": "ipython3",
   "version": "3.7.2"
  }
 },
 "nbformat": 4,
 "nbformat_minor": 2
}
